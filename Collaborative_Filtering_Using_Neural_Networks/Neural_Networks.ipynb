{
  "nbformat": 4,
  "nbformat_minor": 0,
  "metadata": {
    "colab": {
      "name": "Neural Networks.ipynb",
      "provenance": [],
      "collapsed_sections": [],
      "toc_visible": true
    },
    "kernelspec": {
      "name": "python3",
      "display_name": "Python 3"
    },
    "accelerator": "GPU"
  },
  "cells": [
    {
      "cell_type": "markdown",
      "metadata": {
        "id": "tdrM0UN9W7s8",
        "colab_type": "text"
      },
      "source": [
        "## **Load Dataset**"
      ]
    },
    {
      "cell_type": "code",
      "metadata": {
        "id": "yFv39Pt4Uo9F",
        "colab_type": "code",
        "outputId": "f40e27f9-ba6f-40cc-a94d-9e1767ade7d3",
        "colab": {
          "base_uri": "https://localhost:8080/",
          "height": 204
        }
      },
      "source": [
        "import pandas as pd\n",
        "import numpy as np\n",
        "\n",
        "dataset = pd.read_csv('Masked_User_Rest_Ratings.csv')\n",
        "# dataset = pd.read_csv('train_dataset.csv')\n",
        "test_dataset = pd.read_csv('TestUsers.csv')\n",
        "dataset['User']=dataset['User'].astype('int')\n",
        "dataset['Restaurant']=dataset['Restaurant'].astype('int')\n",
        "dataset['Ratings']=dataset['Ratings'].astype('int')\n",
        "dataset.head()"
      ],
      "execution_count": 0,
      "outputs": [
        {
          "output_type": "execute_result",
          "data": {
            "text/html": [
              "<div>\n",
              "<style scoped>\n",
              "    .dataframe tbody tr th:only-of-type {\n",
              "        vertical-align: middle;\n",
              "    }\n",
              "\n",
              "    .dataframe tbody tr th {\n",
              "        vertical-align: top;\n",
              "    }\n",
              "\n",
              "    .dataframe thead th {\n",
              "        text-align: right;\n",
              "    }\n",
              "</style>\n",
              "<table border=\"1\" class=\"dataframe\">\n",
              "  <thead>\n",
              "    <tr style=\"text-align: right;\">\n",
              "      <th></th>\n",
              "      <th>User</th>\n",
              "      <th>Restaurant</th>\n",
              "      <th>Ratings</th>\n",
              "    </tr>\n",
              "  </thead>\n",
              "  <tbody>\n",
              "    <tr>\n",
              "      <th>0</th>\n",
              "      <td>313986</td>\n",
              "      <td>170</td>\n",
              "      <td>5</td>\n",
              "    </tr>\n",
              "    <tr>\n",
              "      <th>1</th>\n",
              "      <td>261673</td>\n",
              "      <td>595</td>\n",
              "      <td>2</td>\n",
              "    </tr>\n",
              "    <tr>\n",
              "      <th>2</th>\n",
              "      <td>33533</td>\n",
              "      <td>358</td>\n",
              "      <td>1</td>\n",
              "    </tr>\n",
              "    <tr>\n",
              "      <th>3</th>\n",
              "      <td>251355</td>\n",
              "      <td>3502</td>\n",
              "      <td>1</td>\n",
              "    </tr>\n",
              "    <tr>\n",
              "      <th>4</th>\n",
              "      <td>324430</td>\n",
              "      <td>1251</td>\n",
              "      <td>5</td>\n",
              "    </tr>\n",
              "  </tbody>\n",
              "</table>\n",
              "</div>"
            ],
            "text/plain": [
              "     User  Restaurant  Ratings\n",
              "0  313986         170        5\n",
              "1  261673         595        2\n",
              "2   33533         358        1\n",
              "3  251355        3502        1\n",
              "4  324430        1251        5"
            ]
          },
          "metadata": {
            "tags": []
          },
          "execution_count": 3
        }
      ]
    },
    {
      "cell_type": "markdown",
      "metadata": {
        "id": "1F8qG4EgShfq",
        "colab_type": "text"
      },
      "source": [
        "## **Prepare Test Data**"
      ]
    },
    {
      "cell_type": "markdown",
      "metadata": {
        "id": "fBhj3c-RXUW3",
        "colab_type": "text"
      },
      "source": [
        "For test data, we considered top 50 users who have rated the maximum restaurants."
      ]
    },
    {
      "cell_type": "code",
      "metadata": {
        "id": "jz0Me3c3MlS5",
        "colab_type": "code",
        "colab": {}
      },
      "source": [
        "test_dataset.drop(columns=['Unnamed: 0'], inplace=True)"
      ],
      "execution_count": 0,
      "outputs": []
    },
    {
      "cell_type": "code",
      "metadata": {
        "id": "ntNhGfLOQjp3",
        "colab_type": "code",
        "colab": {}
      },
      "source": [
        "uniq_res_ids = dataset['Restaurant'].unique()"
      ],
      "execution_count": 0,
      "outputs": []
    },
    {
      "cell_type": "code",
      "metadata": {
        "id": "DeQ6uQ8CREKZ",
        "colab_type": "code",
        "outputId": "d9e8805e-3c8f-4cff-cc95-8a681db65d98",
        "colab": {
          "base_uri": "https://localhost:8080/",
          "height": 34
        }
      },
      "source": [
        "test_list = []\n",
        "for i in test_dataset['Users']:\n",
        "  for j in uniq_res_ids:\n",
        "    test_list.append([i, j])\n",
        "len(test_list)"
      ],
      "execution_count": 0,
      "outputs": [
        {
          "output_type": "execute_result",
          "data": {
            "text/plain": [
              "3180250"
            ]
          },
          "metadata": {
            "tags": []
          },
          "execution_count": 6
        }
      ]
    },
    {
      "cell_type": "code",
      "metadata": {
        "id": "a-D7Rz1xRgIU",
        "colab_type": "code",
        "colab": {}
      },
      "source": [
        "test_data = pd.DataFrame(test_list, columns=['User', 'Restaurant'])"
      ],
      "execution_count": 0,
      "outputs": []
    },
    {
      "cell_type": "markdown",
      "metadata": {
        "id": "d6okxc6fODyQ",
        "colab_type": "text"
      },
      "source": [
        "## **Adding Validation Set into Test Set**"
      ]
    },
    {
      "cell_type": "code",
      "metadata": {
        "id": "pXaxryVkOH1S",
        "colab_type": "code",
        "colab": {}
      },
      "source": [
        "add_on_data = pd.DataFrame(columns=['User', 'Restaurant', 'Ratings'])\n",
        "for i in test_dataset['Users']:\n",
        "  add_on_data = add_on_data.append(dataset[dataset['User']==i].sort_values(ascending=False, by=\"Ratings\")[:10], ignore_index=True)"
      ],
      "execution_count": 0,
      "outputs": []
    },
    {
      "cell_type": "code",
      "metadata": {
        "id": "yftJ2Gj2QXt6",
        "colab_type": "code",
        "colab": {}
      },
      "source": [
        "X_test_add_on= add_on_data.loc[:,['User', 'Restaurant']]\n",
        "Y_test_add_on = add_on_data.loc[:,['Ratings']]"
      ],
      "execution_count": 0,
      "outputs": []
    },
    {
      "cell_type": "code",
      "metadata": {
        "id": "Jpx0nSxmTfaX",
        "colab_type": "code",
        "colab": {}
      },
      "source": [
        "test_data = test_data.append(X_test_add_on, ignore_index=True)"
      ],
      "execution_count": 0,
      "outputs": []
    },
    {
      "cell_type": "markdown",
      "metadata": {
        "id": "h3MUCcFRRwRA",
        "colab_type": "text"
      },
      "source": [
        "## **Dense Neural Network**"
      ]
    },
    {
      "cell_type": "markdown",
      "metadata": {
        "id": "RPAHj_uoXidH",
        "colab_type": "text"
      },
      "source": [
        "Create FastAI CollabDataBunch Object"
      ]
    },
    {
      "cell_type": "code",
      "metadata": {
        "id": "w9btC2QZUXZB",
        "colab_type": "code",
        "colab": {}
      },
      "source": [
        "from fastai.collab import *\n",
        "data = CollabDataBunch.from_df(dataset, seed=42, valid_pct=0.1, user_name='User', item_name='Restaurant', rating_name='Ratings', test=test_data)"
      ],
      "execution_count": 0,
      "outputs": []
    },
    {
      "cell_type": "code",
      "metadata": {
        "id": "KvbhQdDJrRuu",
        "colab_type": "code",
        "outputId": "2bf9c958-8e0f-410a-accf-f8a160937ffc",
        "colab": {
          "base_uri": "https://localhost:8080/",
          "height": 204
        }
      },
      "source": [
        "data.show_batch()"
      ],
      "execution_count": 0,
      "outputs": [
        {
          "output_type": "display_data",
          "data": {
            "text/html": [
              "<table border=\"1\" class=\"dataframe\">\n",
              "  <thead>\n",
              "    <tr style=\"text-align: right;\">\n",
              "      <th>User</th>\n",
              "      <th>Restaurant</th>\n",
              "      <th>target</th>\n",
              "    </tr>\n",
              "  </thead>\n",
              "  <tbody>\n",
              "    <tr>\n",
              "      <td>392426</td>\n",
              "      <td>53912</td>\n",
              "      <td>4.0</td>\n",
              "    </tr>\n",
              "    <tr>\n",
              "      <td>408147</td>\n",
              "      <td>50679</td>\n",
              "      <td>4.0</td>\n",
              "    </tr>\n",
              "    <tr>\n",
              "      <td>1351377</td>\n",
              "      <td>55520</td>\n",
              "      <td>5.0</td>\n",
              "    </tr>\n",
              "    <tr>\n",
              "      <td>166946</td>\n",
              "      <td>10175</td>\n",
              "      <td>1.0</td>\n",
              "    </tr>\n",
              "    <tr>\n",
              "      <td>158798</td>\n",
              "      <td>49896</td>\n",
              "      <td>5.0</td>\n",
              "    </tr>\n",
              "  </tbody>\n",
              "</table>"
            ],
            "text/plain": [
              "<IPython.core.display.HTML object>"
            ]
          },
          "metadata": {
            "tags": []
          }
        }
      ]
    },
    {
      "cell_type": "markdown",
      "metadata": {
        "id": "H7KCVDp0Xqqh",
        "colab_type": "text"
      },
      "source": [
        "Model architecture is defined below which contains two dense layers having 256 and 128 neurons resp. and Embedding of 50 neurons each is added form User and Restaurant. Dropout Layers are added to avoid overfitting."
      ]
    },
    {
      "cell_type": "code",
      "metadata": {
        "id": "OdH8egBXrRu5",
        "colab_type": "code",
        "colab": {}
      },
      "source": [
        "learn = collab_learner(data, use_nn=True, emb_szs={'User': 100, 'Restaurant':100},emb_drop=0.25,ps=[0.5,0.5], layers=[256, 128], y_range=(1, 5))\n"
      ],
      "execution_count": 0,
      "outputs": []
    },
    {
      "cell_type": "markdown",
      "metadata": {
        "id": "iXu9aaQcYB_c",
        "colab_type": "text"
      },
      "source": [
        "To find the appropriate learning rate for our architecture, we used lr_find function provided by FastAI."
      ]
    },
    {
      "cell_type": "code",
      "metadata": {
        "id": "nNBY--k8rRu-",
        "colab_type": "code",
        "outputId": "c50da735-0cdf-4715-b849-e50def6fbdc0",
        "colab": {
          "base_uri": "https://localhost:8080/",
          "height": 374
        }
      },
      "source": [
        "learn.lr_find() # find learning rate\n",
        "learn.recorder.plot() # plot learning rate graph"
      ],
      "execution_count": 0,
      "outputs": [
        {
          "output_type": "display_data",
          "data": {
            "text/html": [
              "\n",
              "    <div>\n",
              "        <style>\n",
              "            /* Turns off some styling */\n",
              "            progress {\n",
              "                /* gets rid of default border in Firefox and Opera. */\n",
              "                border: none;\n",
              "                /* Needs to be in here for Safari polyfill so background images work as expected. */\n",
              "                background-size: auto;\n",
              "            }\n",
              "            .progress-bar-interrupted, .progress-bar-interrupted::-webkit-progress-bar {\n",
              "                background: #F44336;\n",
              "            }\n",
              "        </style>\n",
              "      <progress value='0' class='' max='1' style='width:300px; height:20px; vertical-align: middle;'></progress>\n",
              "      0.00% [0/1 00:00<00:00]\n",
              "    </div>\n",
              "    \n",
              "<table border=\"1\" class=\"dataframe\">\n",
              "  <thead>\n",
              "    <tr style=\"text-align: left;\">\n",
              "      <th>epoch</th>\n",
              "      <th>train_loss</th>\n",
              "      <th>valid_loss</th>\n",
              "      <th>time</th>\n",
              "    </tr>\n",
              "  </thead>\n",
              "  <tbody>\n",
              "  </tbody>\n",
              "</table><p>\n",
              "\n",
              "    <div>\n",
              "        <style>\n",
              "            /* Turns off some styling */\n",
              "            progress {\n",
              "                /* gets rid of default border in Firefox and Opera. */\n",
              "                border: none;\n",
              "                /* Needs to be in here for Safari polyfill so background images work as expected. */\n",
              "                background-size: auto;\n",
              "            }\n",
              "            .progress-bar-interrupted, .progress-bar-interrupted::-webkit-progress-bar {\n",
              "                background: #F44336;\n",
              "            }\n",
              "        </style>\n",
              "      <progress value='98' class='' max='66881' style='width:300px; height:20px; vertical-align: middle;'></progress>\n",
              "      0.15% [98/66881 00:05<1:07:08 3.0371]\n",
              "    </div>\n",
              "    "
            ],
            "text/plain": [
              "<IPython.core.display.HTML object>"
            ]
          },
          "metadata": {
            "tags": []
          }
        },
        {
          "output_type": "stream",
          "text": [
            "LR Finder is complete, type {learner_name}.recorder.plot() to see the graph.\n"
          ],
          "name": "stdout"
        },
        {
          "output_type": "display_data",
          "data": {
            "image/png": "[encoded data removed]",
            "text/plain": [
              "<Figure size 432x288 with 1 Axes>"
            ]
          },
          "metadata": {
            "tags": [],
            "needs_background": "light"
          }
        }
      ]
    },
    {
      "cell_type": "code",
      "metadata": {
        "id": "cgYEznvRrRvH",
        "colab_type": "code",
        "outputId": "520adb2c-8a1e-41a1-c30b-0403f169aacd",
        "colab": {
          "base_uri": "https://localhost:8080/",
          "height": 95
        }
      },
      "source": [
        "from fastai.callbacks.tracker import  *\n",
        "learn.fit_one_cycle(1, 1e-2, callbacks=[SaveModelCallback(learn, every='epoch', monitor='valid_loss', name='collab_model'), EarlyStoppingCallback(learn, monitor='valid_loss', min_delta=0.01, patience=3)])"
      ],
      "execution_count": 0,
      "outputs": [
        {
          "output_type": "display_data",
          "data": {
            "text/html": [
              "\n",
              "    <div>\n",
              "        <style>\n",
              "            /* Turns off some styling */\n",
              "            progress {\n",
              "                /* gets rid of default border in Firefox and Opera. */\n",
              "                border: none;\n",
              "                /* Needs to be in here for Safari polyfill so background images work as expected. */\n",
              "                background-size: auto;\n",
              "            }\n",
              "            .progress-bar-interrupted, .progress-bar-interrupted::-webkit-progress-bar {\n",
              "                background: #F44336;\n",
              "            }\n",
              "        </style>\n",
              "      <progress value='0' class='' max='1' style='width:300px; height:20px; vertical-align: middle;'></progress>\n",
              "      0.00% [0/1 00:00<00:00]\n",
              "    </div>\n",
              "    \n",
              "<table border=\"1\" class=\"dataframe\">\n",
              "  <thead>\n",
              "    <tr style=\"text-align: left;\">\n",
              "      <th>epoch</th>\n",
              "      <th>train_loss</th>\n",
              "      <th>valid_loss</th>\n",
              "      <th>time</th>\n",
              "    </tr>\n",
              "  </thead>\n",
              "  <tbody>\n",
              "  </tbody>\n",
              "</table><p>\n",
              "\n",
              "    <div>\n",
              "        <style>\n",
              "            /* Turns off some styling */\n",
              "            progress {\n",
              "                /* gets rid of default border in Firefox and Opera. */\n",
              "                border: none;\n",
              "                /* Needs to be in here for Safari polyfill so background images work as expected. */\n",
              "                background-size: auto;\n",
              "            }\n",
              "            .progress-bar-interrupted, .progress-bar-interrupted::-webkit-progress-bar {\n",
              "                background: #F44336;\n",
              "            }\n",
              "        </style>\n",
              "      <progress value='20983' class='' max='66881' style='width:300px; height:20px; vertical-align: middle;'></progress>\n",
              "      31.37% [20983/66881 37:35<1:22:13 1.7134]\n",
              "    </div>\n",
              "    "
            ],
            "text/plain": [
              "<IPython.core.display.HTML object>"
            ]
          },
          "metadata": {
            "tags": []
          }
        },
        {
          "output_type": "stream",
          "text": [
            "Buffered data was truncated after reaching the output size limit."
          ],
          "name": "stdout"
        }
      ]
    },
    {
      "cell_type": "code",
      "metadata": {
        "id": "xlJTy5plrRvK",
        "colab_type": "code",
        "outputId": "545de62f-12e3-4f9d-aabf-67849287870e",
        "colab": {
          "base_uri": "https://localhost:8080/",
          "height": 17
        }
      },
      "source": [
        "from sklearn.metrics import mean_squared_error\n",
        "from math import sqrt\n",
        "preds= learn.get_preds(ds_type=DatasetType.Test)\n",
        "preds = preds[0].numpy()"
      ],
      "execution_count": 0,
      "outputs": [
        {
          "output_type": "display_data",
          "data": {
            "text/html": [
              ""
            ],
            "text/plain": [
              "<IPython.core.display.HTML object>"
            ]
          },
          "metadata": {
            "tags": []
          }
        }
      ]
    },
    {
      "cell_type": "markdown",
      "metadata": {
        "id": "1eHnNLHWkcPv",
        "colab_type": "text"
      },
      "source": [
        "## **Restaurant Recommendations**"
      ]
    },
    {
      "cell_type": "code",
      "metadata": {
        "id": "a736xUIohRWr",
        "colab_type": "code",
        "outputId": "66e99c27-1af1-4dcd-fa1a-78f1e478cd68",
        "colab": {
          "base_uri": "https://localhost:8080/",
          "height": 204
        }
      },
      "source": [
        "prediction_df = pd.DataFrame(columns=['User', 'Restaurant', 'Predicted Ratings'])\n",
        "prediction_df['User']=test_data['User'].values\n",
        "prediction_df['Restaurant']=test_data['Restaurant'].values\n",
        "prediction_df['Predicted Ratings']=preds\n",
        "prediction_df.head()\n",
        "\n"
      ],
      "execution_count": 0,
      "outputs": [
        {
          "output_type": "execute_result",
          "data": {
            "text/html": [
              "<div>\n",
              "<style scoped>\n",
              "    .dataframe tbody tr th:only-of-type {\n",
              "        vertical-align: middle;\n",
              "    }\n",
              "\n",
              "    .dataframe tbody tr th {\n",
              "        vertical-align: top;\n",
              "    }\n",
              "\n",
              "    .dataframe thead th {\n",
              "        text-align: right;\n",
              "    }\n",
              "</style>\n",
              "<table border=\"1\" class=\"dataframe\">\n",
              "  <thead>\n",
              "    <tr style=\"text-align: right;\">\n",
              "      <th></th>\n",
              "      <th>User</th>\n",
              "      <th>Restaurant</th>\n",
              "      <th>Predicted Ratings</th>\n",
              "    </tr>\n",
              "  </thead>\n",
              "  <tbody>\n",
              "    <tr>\n",
              "      <th>0</th>\n",
              "      <td>4401</td>\n",
              "      <td>170</td>\n",
              "      <td>3.335582</td>\n",
              "    </tr>\n",
              "    <tr>\n",
              "      <th>1</th>\n",
              "      <td>4401</td>\n",
              "      <td>595</td>\n",
              "      <td>3.685613</td>\n",
              "    </tr>\n",
              "    <tr>\n",
              "      <th>2</th>\n",
              "      <td>4401</td>\n",
              "      <td>358</td>\n",
              "      <td>3.022434</td>\n",
              "    </tr>\n",
              "    <tr>\n",
              "      <th>3</th>\n",
              "      <td>4401</td>\n",
              "      <td>3502</td>\n",
              "      <td>3.169023</td>\n",
              "    </tr>\n",
              "    <tr>\n",
              "      <th>4</th>\n",
              "      <td>4401</td>\n",
              "      <td>1251</td>\n",
              "      <td>3.659316</td>\n",
              "    </tr>\n",
              "  </tbody>\n",
              "</table>\n",
              "</div>"
            ],
            "text/plain": [
              "   User  Restaurant  Predicted Ratings\n",
              "0  4401         170           3.335582\n",
              "1  4401         595           3.685613\n",
              "2  4401         358           3.022434\n",
              "3  4401        3502           3.169023\n",
              "4  4401        1251           3.659316"
            ]
          },
          "metadata": {
            "tags": []
          },
          "execution_count": 65
        }
      ]
    },
    {
      "cell_type": "code",
      "metadata": {
        "id": "e4MmhpV1igD7",
        "colab_type": "code",
        "colab": {}
      },
      "source": [
        "top_10_test_pred = pd.DataFrame(columns=['User', 'Restaurant', 'Predicted Ratings'])\n",
        "for i in prediction_df['User'].unique():\n",
        "  top_10_test_pred = top_10_test_pred.append(prediction_df[prediction_df['User']==i].sort_values(ascending=False, by='Predicted Ratings')[:10], ignore_index=True)"
      ],
      "execution_count": 0,
      "outputs": []
    },
    {
      "cell_type": "code",
      "metadata": {
        "id": "IC8l4TgOiQMX",
        "colab_type": "code",
        "colab": {}
      },
      "source": [
        "top_10_test_pred.to_csv('TestDataRecommendation.csv', index=False, index_label=False)"
      ],
      "execution_count": 0,
      "outputs": []
    },
    {
      "cell_type": "markdown",
      "metadata": {
        "id": "M62gWeKJkSPc",
        "colab_type": "text"
      },
      "source": [
        "======================="
      ]
    },
    {
      "cell_type": "code",
      "metadata": {
        "id": "vRVr3-Hz9_ki",
        "colab_type": "code",
        "outputId": "29e41277-16b1-4575-9638-56d182f78eb9",
        "colab": {
          "base_uri": "https://localhost:8080/",
          "height": 359
        }
      },
      "source": [
        "import pandas as pd\n",
        "recommendations = pd.read_csv('Results-Amit/TestDataRecommendation.csv')\n",
        "recommendations.head(10)"
      ],
      "execution_count": 0,
      "outputs": [
        {
          "output_type": "execute_result",
          "data": {
            "text/html": [
              "<div>\n",
              "<style scoped>\n",
              "    .dataframe tbody tr th:only-of-type {\n",
              "        vertical-align: middle;\n",
              "    }\n",
              "\n",
              "    .dataframe tbody tr th {\n",
              "        vertical-align: top;\n",
              "    }\n",
              "\n",
              "    .dataframe thead th {\n",
              "        text-align: right;\n",
              "    }\n",
              "</style>\n",
              "<table border=\"1\" class=\"dataframe\">\n",
              "  <thead>\n",
              "    <tr style=\"text-align: right;\">\n",
              "      <th></th>\n",
              "      <th>User</th>\n",
              "      <th>Restaurant</th>\n",
              "      <th>Predicted Ratings</th>\n",
              "    </tr>\n",
              "  </thead>\n",
              "  <tbody>\n",
              "    <tr>\n",
              "      <th>0</th>\n",
              "      <td>4401</td>\n",
              "      <td>43076</td>\n",
              "      <td>4.604823</td>\n",
              "    </tr>\n",
              "    <tr>\n",
              "      <th>1</th>\n",
              "      <td>4401</td>\n",
              "      <td>33485</td>\n",
              "      <td>4.558684</td>\n",
              "    </tr>\n",
              "    <tr>\n",
              "      <th>2</th>\n",
              "      <td>4401</td>\n",
              "      <td>48809</td>\n",
              "      <td>4.541618</td>\n",
              "    </tr>\n",
              "    <tr>\n",
              "      <th>3</th>\n",
              "      <td>4401</td>\n",
              "      <td>49702</td>\n",
              "      <td>4.507235</td>\n",
              "    </tr>\n",
              "    <tr>\n",
              "      <th>4</th>\n",
              "      <td>4401</td>\n",
              "      <td>54783</td>\n",
              "      <td>4.488658</td>\n",
              "    </tr>\n",
              "    <tr>\n",
              "      <th>5</th>\n",
              "      <td>4401</td>\n",
              "      <td>32418</td>\n",
              "      <td>4.484332</td>\n",
              "    </tr>\n",
              "    <tr>\n",
              "      <th>6</th>\n",
              "      <td>4401</td>\n",
              "      <td>50791</td>\n",
              "      <td>4.476749</td>\n",
              "    </tr>\n",
              "    <tr>\n",
              "      <th>7</th>\n",
              "      <td>4401</td>\n",
              "      <td>14139</td>\n",
              "      <td>4.462414</td>\n",
              "    </tr>\n",
              "    <tr>\n",
              "      <th>8</th>\n",
              "      <td>4401</td>\n",
              "      <td>16971</td>\n",
              "      <td>4.460520</td>\n",
              "    </tr>\n",
              "    <tr>\n",
              "      <th>9</th>\n",
              "      <td>4401</td>\n",
              "      <td>49979</td>\n",
              "      <td>4.459648</td>\n",
              "    </tr>\n",
              "  </tbody>\n",
              "</table>\n",
              "</div>"
            ],
            "text/plain": [
              "   User  Restaurant  Predicted Ratings\n",
              "0  4401       43076           4.604823\n",
              "1  4401       33485           4.558684\n",
              "2  4401       48809           4.541618\n",
              "3  4401       49702           4.507235\n",
              "4  4401       54783           4.488658\n",
              "5  4401       32418           4.484332\n",
              "6  4401       50791           4.476749\n",
              "7  4401       14139           4.462414\n",
              "8  4401       16971           4.460520\n",
              "9  4401       49979           4.459648"
            ]
          },
          "metadata": {
            "tags": []
          },
          "execution_count": 5
        }
      ]
    },
    {
      "cell_type": "code",
      "metadata": {
        "id": "cHtgJRRaU5fi",
        "colab_type": "code",
        "outputId": "7d8a5133-5de6-4218-e494-1fcb552149cc",
        "colab": {
          "base_uri": "https://localhost:8080/",
          "height": 197
        }
      },
      "source": [
        "result = pd.DataFrame(columns=['Actual Ratings', 'Predicted Ratings'])\n",
        "result['Actual Ratings']= Y_test\n",
        "result['Predicted Ratings']= preds\n",
        "result.reset_index(inplace=True, drop=True)\n",
        "result.head()"
      ],
      "execution_count": 0,
      "outputs": [
        {
          "output_type": "execute_result",
          "data": {
            "text/html": [
              "<div>\n",
              "<style scoped>\n",
              "    .dataframe tbody tr th:only-of-type {\n",
              "        vertical-align: middle;\n",
              "    }\n",
              "\n",
              "    .dataframe tbody tr th {\n",
              "        vertical-align: top;\n",
              "    }\n",
              "\n",
              "    .dataframe thead th {\n",
              "        text-align: right;\n",
              "    }\n",
              "</style>\n",
              "<table border=\"1\" class=\"dataframe\">\n",
              "  <thead>\n",
              "    <tr style=\"text-align: right;\">\n",
              "      <th></th>\n",
              "      <th>Actual Ratings</th>\n",
              "      <th>Predicted Ratings</th>\n",
              "    </tr>\n",
              "  </thead>\n",
              "  <tbody>\n",
              "    <tr>\n",
              "      <th>0</th>\n",
              "      <td>2</td>\n",
              "      <td>3.508652</td>\n",
              "    </tr>\n",
              "    <tr>\n",
              "      <th>1</th>\n",
              "      <td>5</td>\n",
              "      <td>3.127908</td>\n",
              "    </tr>\n",
              "    <tr>\n",
              "      <th>2</th>\n",
              "      <td>5</td>\n",
              "      <td>4.440498</td>\n",
              "    </tr>\n",
              "    <tr>\n",
              "      <th>3</th>\n",
              "      <td>5</td>\n",
              "      <td>3.072863</td>\n",
              "    </tr>\n",
              "    <tr>\n",
              "      <th>4</th>\n",
              "      <td>5</td>\n",
              "      <td>3.773086</td>\n",
              "    </tr>\n",
              "  </tbody>\n",
              "</table>\n",
              "</div>"
            ],
            "text/plain": [
              "   Actual Ratings  Predicted Ratings\n",
              "0               2           3.508652\n",
              "1               5           3.127908\n",
              "2               5           4.440498\n",
              "3               5           3.072863\n",
              "4               5           3.773086"
            ]
          },
          "metadata": {
            "tags": []
          },
          "execution_count": 11
        }
      ]
    },
    {
      "cell_type": "code",
      "metadata": {
        "id": "j_aAnpwKXf3k",
        "colab_type": "code",
        "colab": {}
      },
      "source": [
        "pd.DataFrame(preds).to_csv('Predictions_epoch_1.csv', index=None, index_label=None)"
      ],
      "execution_count": 0,
      "outputs": []
    },
    {
      "cell_type": "code",
      "metadata": {
        "id": "93SedlYyrRvR",
        "colab_type": "code",
        "colab": {}
      },
      "source": [
        "prediction = pd.DataFrame(columns=['Id','Rating'])\n",
        "prediction['Id']=xx\n",
        "prediction['Rating']=preds.reshape(-1)\n",
        "prediction.to_csv('outputs.csv', index_label=False,index=False)"
      ],
      "execution_count": 0,
      "outputs": []
    }
  ]
}